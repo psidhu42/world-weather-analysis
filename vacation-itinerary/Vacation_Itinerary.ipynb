{
 "cells": [
  {
   "cell_type": "markdown",
   "metadata": {},
   "source": [
    "## Deliverable 3. Create a Travel Itinerary Map."
   ]
  },
  {
   "cell_type": "code",
   "execution_count": 1,
   "metadata": {},
   "outputs": [],
   "source": [
    "# Dependencies and Setup\n",
    "import pandas as pd\n",
    "import requests\n",
    "import gmaps\n",
    "\n",
    "# Import API key\n",
    "from config import g_key\n",
    "\n",
    "# Configure gmaps\n",
    "gmaps.configure(api_key=g_key)"
   ]
  },
  {
   "cell_type": "code",
   "execution_count": 2,
   "metadata": {},
   "outputs": [
    {
     "data": {
      "text/html": [
       "<div>\n",
       "<style scoped>\n",
       "    .dataframe tbody tr th:only-of-type {\n",
       "        vertical-align: middle;\n",
       "    }\n",
       "\n",
       "    .dataframe tbody tr th {\n",
       "        vertical-align: top;\n",
       "    }\n",
       "\n",
       "    .dataframe thead th {\n",
       "        text-align: right;\n",
       "    }\n",
       "</style>\n",
       "<table border=\"1\" class=\"dataframe\">\n",
       "  <thead>\n",
       "    <tr style=\"text-align: right;\">\n",
       "      <th></th>\n",
       "      <th>City_ID</th>\n",
       "      <th>City</th>\n",
       "      <th>Country</th>\n",
       "      <th>Max Temp</th>\n",
       "      <th>Current Description</th>\n",
       "      <th>Lat</th>\n",
       "      <th>Lng</th>\n",
       "      <th>Hotel Name</th>\n",
       "    </tr>\n",
       "  </thead>\n",
       "  <tbody>\n",
       "    <tr>\n",
       "      <th>0</th>\n",
       "      <td>1</td>\n",
       "      <td>Butaritari</td>\n",
       "      <td>KI</td>\n",
       "      <td>81.46</td>\n",
       "      <td>light rain</td>\n",
       "      <td>3.0707</td>\n",
       "      <td>172.7902</td>\n",
       "      <td>Isles Sunset Lodge</td>\n",
       "    </tr>\n",
       "    <tr>\n",
       "      <th>1</th>\n",
       "      <td>3</td>\n",
       "      <td>Lalmohan</td>\n",
       "      <td>BD</td>\n",
       "      <td>81.37</td>\n",
       "      <td>broken clouds</td>\n",
       "      <td>22.3384</td>\n",
       "      <td>90.7419</td>\n",
       "      <td>Arifur Rahman Miraj</td>\n",
       "    </tr>\n",
       "    <tr>\n",
       "      <th>2</th>\n",
       "      <td>4</td>\n",
       "      <td>Avarua</td>\n",
       "      <td>CK</td>\n",
       "      <td>82.45</td>\n",
       "      <td>few clouds</td>\n",
       "      <td>-21.2078</td>\n",
       "      <td>-159.7750</td>\n",
       "      <td>Paradise Inn</td>\n",
       "    </tr>\n",
       "    <tr>\n",
       "      <th>3</th>\n",
       "      <td>5</td>\n",
       "      <td>Atuona</td>\n",
       "      <td>PF</td>\n",
       "      <td>78.31</td>\n",
       "      <td>overcast clouds</td>\n",
       "      <td>-9.8000</td>\n",
       "      <td>-139.0333</td>\n",
       "      <td>Villa Enata</td>\n",
       "    </tr>\n",
       "    <tr>\n",
       "      <th>4</th>\n",
       "      <td>7</td>\n",
       "      <td>Bonoua</td>\n",
       "      <td>CI</td>\n",
       "      <td>83.82</td>\n",
       "      <td>light rain</td>\n",
       "      <td>5.2741</td>\n",
       "      <td>-3.5950</td>\n",
       "      <td>Hotel Bon Samaritian</td>\n",
       "    </tr>\n",
       "  </tbody>\n",
       "</table>\n",
       "</div>"
      ],
      "text/plain": [
       "   City_ID        City Country  Max Temp Current Description      Lat  \\\n",
       "0        1  Butaritari      KI     81.46          light rain   3.0707   \n",
       "1        3    Lalmohan      BD     81.37       broken clouds  22.3384   \n",
       "2        4      Avarua      CK     82.45          few clouds -21.2078   \n",
       "3        5      Atuona      PF     78.31     overcast clouds  -9.8000   \n",
       "4        7      Bonoua      CI     83.82          light rain   5.2741   \n",
       "\n",
       "        Lng            Hotel Name  \n",
       "0  172.7902    Isles Sunset Lodge  \n",
       "1   90.7419   Arifur Rahman Miraj  \n",
       "2 -159.7750          Paradise Inn  \n",
       "3 -139.0333           Villa Enata  \n",
       "4   -3.5950  Hotel Bon Samaritian  "
      ]
     },
     "execution_count": 2,
     "metadata": {},
     "output_type": "execute_result"
    }
   ],
   "source": [
    "# 1. Read the WeatherPy_vacation.csv into a DataFrame.\n",
    "\n",
    "vacation_df = pd.read_csv(\"../vacation-search/WeatherPy_vacation.csv\")\n",
    "\n",
    "vacation_df.head()"
   ]
  },
  {
   "cell_type": "code",
   "execution_count": 3,
   "metadata": {},
   "outputs": [],
   "source": [
    "# 2. Using the template add the city name, the country code, the weather description and maximum temperature for the city.\n",
    "info_box_template = \"\"\"\n",
    "\n",
    "<dl>\n",
    "\n",
    "<dt>Hotel Name</dt><dd>{Hotel Name}</dd>\n",
    "\n",
    "<dt>City</dt><dd>{City}</dd>\n",
    "\n",
    "<dt>Country</dt><dd>{Country}</dd>\n",
    "\n",
    "<dt>Current Weather</dt><dd>{Current Description} and {Max Temp} °F</dd>\n",
    "\n",
    "</dl>\n",
    "\n",
    "\"\"\"\n",
    "\n",
    "# 3a. Get the data from each row and add it to the formatting template and store the data in a list.\n",
    "\n",
    "hotel_info = [info_box_template.format(**row) for index, row in vacation_df.iterrows()]\n",
    "\n",
    "# 3b. Get the latitude and longitude from each row and store in a new DataFrame.\n",
    "\n",
    "locations = vacation_df[[\"Lat\", \"Lng\"]]"
   ]
  },
  {
   "cell_type": "code",
   "execution_count": 4,
   "metadata": {},
   "outputs": [
    {
     "data": {
      "application/vnd.jupyter.widget-view+json": {
       "model_id": "a1ac727326364a52b99777b8a64aa7a0",
       "version_major": 2,
       "version_minor": 0
      },
      "text/plain": [
       "Figure(layout=FigureLayout(height='420px'))"
      ]
     },
     "metadata": {},
     "output_type": "display_data"
    }
   ],
   "source": [
    "# 4a. Add a marker layer for each city to the map.\n",
    "\n",
    "fig = gmaps.figure(center=(30.0, 31.0), zoom_level=1.5)\n",
    "\n",
    "marker_layer = gmaps.marker_layer(locations, info_box_content=hotel_info)\n",
    "\n",
    "fig.add_layer(marker_layer)\n",
    "\n",
    "# 4b. Display the figure\n",
    "\n",
    "fig"
   ]
  },
  {
   "cell_type": "code",
   "execution_count": 76,
   "metadata": {},
   "outputs": [],
   "source": [
    "# From the map above pick 4 cities and create a vacation itinerary route to travel between the four cities. \n",
    "# 5. Create DataFrames for each city by filtering the 'vacation_df' using the loc method. \n",
    "# Hint: The starting and ending city should be the same city.\n",
    "\n",
    "vacation_start = vacation_df.loc[vacation_df['City'] == 'Florida']\n",
    "\n",
    "vacation_end = vacation_df.loc[vacation_df['City'] == 'Florida']\n",
    "\n",
    "vacation_stop1 = vacation_df.loc[vacation_df['City'] == 'Russell']\n",
    "\n",
    "vacation_stop2 = vacation_df.loc[vacation_df['City'] == 'Ormond Beach']\n",
    "\n",
    "vacation_stop3 = vacation_df.loc[vacation_df['City'] == 'Brandon']"
   ]
  },
  {
   "cell_type": "code",
   "execution_count": 77,
   "metadata": {},
   "outputs": [
    {
     "name": "stdout",
     "output_type": "stream",
     "text": [
      "[[ 28.7505 -82.5001]] [[ 28.7505 -82.5001]] [[ 32.3502 -85.1999]] [[ 29.2858 -81.0559]] [[ 27.9378 -82.2859]]\n"
     ]
    }
   ],
   "source": [
    "# 6. Get the latitude-longitude pairs as tuples from each city DataFrame using the to_numpy function and list indexing.\n",
    "\n",
    "start = vacation_start[['Lat', 'Lng']].to_numpy()\n",
    "#startlng = vacation_start['Lng'].to_numpy()\n",
    "\n",
    "end = vacation_end[['Lat', 'Lng']].to_numpy()\n",
    "stop1 = vacation_stop1[['Lat', 'Lng']].to_numpy()\n",
    "stop2 = vacation_stop2[['Lat', 'Lng']].to_numpy()\n",
    "stop3 = vacation_stop3[['Lat', 'Lng']].to_numpy()\n",
    "\n",
    "#s = start.tolist()\n",
    "#e = end.tolist()\n",
    "#s1 = stop1.tolist()\n",
    "#s2 = stop2.tolist()\n",
    "#s3 = stop3.tolist()\n",
    "\n",
    "print(start, end, stop1, stop2, stop3)\n"
   ]
  },
  {
   "cell_type": "code",
   "execution_count": 78,
   "metadata": {},
   "outputs": [],
   "source": [
    "s = (28.7505, -82.5001)\n",
    "e = (28.7505, -82.5001)\n",
    "s1 = (32.3502, -85.1999)\n",
    "s2 = (29.2858, -81.0559)\n",
    "s3 = (27.9378, -82.2859)"
   ]
  },
  {
   "cell_type": "code",
   "execution_count": 89,
   "metadata": {
    "scrolled": true
   },
   "outputs": [
    {
     "data": {
      "application/vnd.jupyter.widget-view+json": {
       "model_id": "b7b8a077652f490380b99b0fada722f2",
       "version_major": 2,
       "version_minor": 0
      },
      "text/plain": [
       "Figure(layout=FigureLayout(height='420px'))"
      ]
     },
     "metadata": {},
     "output_type": "display_data"
    }
   ],
   "source": [
    "# 7. Create a direction layer map using the start and end latitude-longitude pairs,\n",
    "# and stop1, stop2, and stop3 as the waypoints. The travel_mode should be \"DRIVING\", \"BICYCLING\", or \"WALKING\".\n",
    "\n",
    "import gmaps.datasets\n",
    "\n",
    "fig = gmaps.figure()\n",
    "\n",
    "southdrive = gmaps.directions_layer(s, e, waypoints=[s1, s2, s3], travel_mode='DRIVING')\n",
    "\n",
    "fig.add_layer(southdrive)\n",
    "\n",
    "fig"
   ]
  },
  {
   "cell_type": "code",
   "execution_count": 90,
   "metadata": {},
   "outputs": [
    {
     "data": {
      "text/html": [
       "<div>\n",
       "<style scoped>\n",
       "    .dataframe tbody tr th:only-of-type {\n",
       "        vertical-align: middle;\n",
       "    }\n",
       "\n",
       "    .dataframe tbody tr th {\n",
       "        vertical-align: top;\n",
       "    }\n",
       "\n",
       "    .dataframe thead th {\n",
       "        text-align: right;\n",
       "    }\n",
       "</style>\n",
       "<table border=\"1\" class=\"dataframe\">\n",
       "  <thead>\n",
       "    <tr style=\"text-align: right;\">\n",
       "      <th></th>\n",
       "      <th>City_ID</th>\n",
       "      <th>City</th>\n",
       "      <th>Country</th>\n",
       "      <th>Max Temp</th>\n",
       "      <th>Current Description</th>\n",
       "      <th>Lat</th>\n",
       "      <th>Lng</th>\n",
       "      <th>Hotel Name</th>\n",
       "    </tr>\n",
       "  </thead>\n",
       "  <tbody>\n",
       "    <tr>\n",
       "      <th>0</th>\n",
       "      <td>478</td>\n",
       "      <td>Florida</td>\n",
       "      <td>US</td>\n",
       "      <td>80.58</td>\n",
       "      <td>clear sky</td>\n",
       "      <td>28.7505</td>\n",
       "      <td>-82.5001</td>\n",
       "      <td>Sportsmens Cove</td>\n",
       "    </tr>\n",
       "    <tr>\n",
       "      <th>1</th>\n",
       "      <td>315</td>\n",
       "      <td>Russell</td>\n",
       "      <td>US</td>\n",
       "      <td>80.20</td>\n",
       "      <td>few clouds</td>\n",
       "      <td>32.3502</td>\n",
       "      <td>-85.1999</td>\n",
       "      <td>Macs</td>\n",
       "    </tr>\n",
       "    <tr>\n",
       "      <th>2</th>\n",
       "      <td>439</td>\n",
       "      <td>Ormond Beach</td>\n",
       "      <td>US</td>\n",
       "      <td>77.29</td>\n",
       "      <td>clear sky</td>\n",
       "      <td>29.2858</td>\n",
       "      <td>-81.0559</td>\n",
       "      <td>Makai Beach Lodge</td>\n",
       "    </tr>\n",
       "    <tr>\n",
       "      <th>3</th>\n",
       "      <td>70</td>\n",
       "      <td>Brandon</td>\n",
       "      <td>US</td>\n",
       "      <td>82.72</td>\n",
       "      <td>light intensity drizzle</td>\n",
       "      <td>27.9378</td>\n",
       "      <td>-82.2859</td>\n",
       "      <td>Embassy Suites by Hilton Tampa Brandon</td>\n",
       "    </tr>\n",
       "  </tbody>\n",
       "</table>\n",
       "</div>"
      ],
      "text/plain": [
       "   City_ID          City Country  Max Temp      Current Description      Lat  \\\n",
       "0      478       Florida      US     80.58                clear sky  28.7505   \n",
       "1      315       Russell      US     80.20               few clouds  32.3502   \n",
       "2      439  Ormond Beach      US     77.29                clear sky  29.2858   \n",
       "3       70       Brandon      US     82.72  light intensity drizzle  27.9378   \n",
       "\n",
       "       Lng                              Hotel Name  \n",
       "0 -82.5001                         Sportsmens Cove  \n",
       "1 -85.1999                                    Macs  \n",
       "2 -81.0559                       Makai Beach Lodge  \n",
       "3 -82.2859  Embassy Suites by Hilton Tampa Brandon  "
      ]
     },
     "execution_count": 90,
     "metadata": {},
     "output_type": "execute_result"
    }
   ],
   "source": [
    "# 8. To create a marker layer map between the four cities.\n",
    "#  Combine the four city DataFrames into one DataFrame using the concat() function.\n",
    "\n",
    "itinerary_df = pd.concat([vacation_start,vacation_stop1,vacation_stop2,vacation_stop3],ignore_index=True)\n",
    "\n",
    "itinerary_df"
   ]
  },
  {
   "cell_type": "code",
   "execution_count": 91,
   "metadata": {},
   "outputs": [],
   "source": [
    "# 9 Using the template add city name, the country code, the weather description and maximum temperature for the city. \n",
    "info_box_template = \"\"\"\n",
    "\n",
    "<dl>\n",
    "\n",
    "<dt>Hotel Name</dt><dd>{Hotel Name}</dd>\n",
    "\n",
    "<dt>City</dt><dd>{City}</dd>\n",
    "\n",
    "<dt>Country</dt><dd>{Country}</dd>\n",
    "\n",
    "<dt>Current Weather</dt><dd>{Current Description} and {Max Temp} °F</dd>\n",
    "\n",
    "</dl>\n",
    "\n",
    "\"\"\"\n",
    "\n",
    "# 10a Get the data from each row and add it to the formatting template and store the data in a list.\n",
    "hotel_info = [info_box_template.format(**row) for index, row in itinerary_df.iterrows()]\n",
    "\n",
    "# 10b. Get the latitude and longitude from each row and store in a new DataFrame.\n",
    "locations = itinerary_df[[\"Lat\", \"Lng\"]]"
   ]
  },
  {
   "cell_type": "code",
   "execution_count": 92,
   "metadata": {},
   "outputs": [
    {
     "data": {
      "application/vnd.jupyter.widget-view+json": {
       "model_id": "88e2bcf77a6d4504addbfe1ea6a8f47e",
       "version_major": 2,
       "version_minor": 0
      },
      "text/plain": [
       "Figure(layout=FigureLayout(height='420px'))"
      ]
     },
     "metadata": {},
     "output_type": "display_data"
    }
   ],
   "source": [
    "# 11a. Add a marker layer for each city to the map.\n",
    "fig = gmaps.figure(center=(30.0, 31.0), zoom_level=1.5)\n",
    "\n",
    "marker_layer = gmaps.marker_layer(locations, info_box_content=hotel_info)\n",
    "\n",
    "fig.add_layer(marker_layer)\n",
    "\n",
    "# 11b. Display the figure\n",
    "\n",
    "fig"
   ]
  },
  {
   "cell_type": "code",
   "execution_count": null,
   "metadata": {},
   "outputs": [],
   "source": []
  }
 ],
 "metadata": {
  "kernelspec": {
   "display_name": "PythonData",
   "language": "python",
   "name": "pythondata"
  },
  "language_info": {
   "codemirror_mode": {
    "name": "ipython",
    "version": 3
   },
   "file_extension": ".py",
   "mimetype": "text/x-python",
   "name": "python",
   "nbconvert_exporter": "python",
   "pygments_lexer": "ipython3",
   "version": "3.7.11"
  },
  "latex_envs": {
   "LaTeX_envs_menu_present": true,
   "autoclose": false,
   "autocomplete": true,
   "bibliofile": "biblio.bib",
   "cite_by": "apalike",
   "current_citInitial": 1,
   "eqLabelWithNumbers": true,
   "eqNumInitial": 1,
   "hotkeys": {
    "equation": "Ctrl-E",
    "itemize": "Ctrl-I"
   },
   "labels_anchors": false,
   "latex_user_defs": false,
   "report_style_numbering": false,
   "user_envs_cfg": false
  }
 },
 "nbformat": 4,
 "nbformat_minor": 2
}
